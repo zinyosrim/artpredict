{
 "cells": [
  {
   "cell_type": "code",
   "execution_count": 43,
   "metadata": {
    "collapsed": true
   },
   "outputs": [],
   "source": [
    "import quandl\n",
    "quandl.ApiConfig.api_key = \"NG_msDKqFXScjydFHyzz\"\n",
    "data = quandl.get(\"CUR/HKD\")"
   ]
  },
  {
   "cell_type": "code",
   "execution_count": null,
   "metadata": {
    "collapsed": true
   },
   "outputs": [],
   "source": [
    "import datetime\n",
    "import requests\n",
    "from time import sleep\n",
    "\n",
    "def generate_forex_dataframe():\n",
    "    '''Generates a dataframe with exchange rates for base currency USD'''\n",
    "\n",
    "    # first possible date\n",
    "    START_DATE = datetime.date(2000,1,1)\n",
    "\n",
    "    # create forex dataframe\n",
    "    allowed_currencies = ['GBP', 'EUR', 'AUD', 'JPY', 'HKD', 'INR', 'CNY', 'CHF', 'CAD', ]\n",
    "    cols = ['date'] + allowed_currencies\n",
    "\n",
    "    # set starting day\n",
    "    d = START_DATE\n",
    "\n",
    "    # create list for forex rows\n",
    "    forex_rows = list()\n",
    "    date_format = \"%Y-%m-%d\"\n",
    "\n",
    "    while d != datetime.date.today():\n",
    "        # get data\n",
    "        url = 'https://api.fixer.io/' + d.strftime(date_format) + '?base=USD&symbols=EUR,GBP,AUD,CHF,CNY,HKD,JPY,CAD,INR'\n",
    "        print(url)\n",
    "        headers = {'User-Agent': 'Mozilla/5.0 (Macintosh; Intel Mac OS X 10_10_1) AppleWebKit/537.36 (KHTML, like Gecko) Chrome/39.0.2171.95 Safari/537.36', 'content-type': 'application/json'}\n",
    "        #http_proxy  = \"181.57.156.186:8080\"\n",
    "        #proxyDict = {\"http\"  : http_proxy}\n",
    "        #r = requests.get(url, proxies= proxyDict, headers=headers)\n",
    "        r = requests.get(url, headers=headers)\n",
    "        json = r.json()     \n",
    "\n",
    "        # put data in dict\n",
    "        forex_row = dict()\n",
    "\n",
    "        try:\n",
    "            forex_row['date'] = date.strptime(json['date'], date_format)\n",
    "        except:\n",
    "            d += datetime.timedelta(days=1)\n",
    "            break\n",
    "\n",
    "        for cur in allowed_currencies:\n",
    "            try:\n",
    "                forex_row[cur] = json['rates'][cur]\n",
    "            except: \n",
    "                forex_row[cur] = None\n",
    "\n",
    "        # append dict to list\n",
    "        forex_rows.append(forex_row)\n",
    "\n",
    "        # set day to next day\n",
    "        d += datetime.timedelta(days=1)\n",
    "        sleep(0.5)\n",
    "\n",
    "    # create forex dataframe\n",
    "    forex = pd.DataFrame(forex_rows, columns = cols) \n",
    "\n",
    "    #forex.set_index('date')\n",
    "    forex['date'] = pd.to_datetime(forex['date'], format = date_format)\n",
    "    forex.set_index(pd.DatetimeIndex(forex['date']), inplace = True)\n",
    "\n",
    "    # clean-up\n",
    "    forex.drop_duplicates(inplace = True)\n",
    "    forex.drop(['date'], axis=1, inplace=True)\n",
    "\n",
    "    return forex\n",
    "\n",
    "forex = generate_forex_dataframe()\n",
    "#artpredict_path = \"/Users/denizthemenace/dev/artcollect/\"\n",
    "#datapath = artpredict_path + \"data/\"\n",
    "forex.to_csv(datapath + 'forex.csv')"
   ]
  },
  {
   "cell_type": "code",
   "execution_count": null,
   "metadata": {
    "collapsed": true
   },
   "outputs": [],
   "source": [
    "import requests\n",
    "url = \"http://api.fixer.io/2000-01-01?base=USD&symbols=EUR,GBP,AUD,CHF,CNY,HKD,JPY,CAD,INR\"\n",
    "#headers = \"Mozilla/5.0\"\n",
    "#http_proxy  = \"41.75.76.75:62225\"\n",
    "#https_proxy = \"https://10.10.1.11:1080\"\n",
    "#ftp_proxy   = \"ftp://10.10.1.10:3128\"\n",
    "\n",
    "proxyDict = { \n",
    "              \"http\"  : http_proxy, \n",
    "              #\"https\" : https_proxy, \n",
    "              #\"ftp\"   : ftp_proxy\n",
    "            }\n",
    "\n",
    "#r = requests.get(url, proxies=proxyDict)\n",
    "r = requests.get(url)\n",
    "json = r.json()  \n",
    "print(json['rates']['CAD'])"
   ]
  },
  {
   "cell_type": "code",
   "execution_count": 1,
   "metadata": {},
   "outputs": [
    {
     "ename": "NameError",
     "evalue": "name 'testdf' is not defined",
     "output_type": "error",
     "traceback": [
      "\u001b[0;31m---------------------------------------------------------------------------\u001b[0m",
      "\u001b[0;31mNameError\u001b[0m                                 Traceback (most recent call last)",
      "\u001b[0;32m<ipython-input-1-4a0dd69b67b5>\u001b[0m in \u001b[0;36m<module>\u001b[0;34m()\u001b[0m\n\u001b[1;32m      9\u001b[0m \u001b[0;34m\u001b[0m\u001b[0m\n\u001b[1;32m     10\u001b[0m \u001b[0;34m\u001b[0m\u001b[0m\n\u001b[0;32m---> 11\u001b[0;31m \u001b[0mtestdf\u001b[0m\u001b[0;34m[\u001b[0m\u001b[0;34m'usdprice'\u001b[0m\u001b[0;34m]\u001b[0m \u001b[0;34m=\u001b[0m \u001b[0mtestdf\u001b[0m\u001b[0;34m.\u001b[0m\u001b[0mapply\u001b[0m\u001b[0;34m(\u001b[0m\u001b[0mconvert_to_usd\u001b[0m\u001b[0;34m,\u001b[0m \u001b[0maxis\u001b[0m\u001b[0;34m=\u001b[0m\u001b[0;36m1\u001b[0m\u001b[0;34m)\u001b[0m\u001b[0;34m\u001b[0m\u001b[0m\n\u001b[0m\u001b[1;32m     12\u001b[0m \u001b[0;34m\u001b[0m\u001b[0m\n\u001b[1;32m     13\u001b[0m \u001b[0;34m\u001b[0m\u001b[0m\n",
      "\u001b[0;31mNameError\u001b[0m: name 'testdf' is not defined"
     ]
    }
   ],
   "source": [
    "# forex api version\n",
    "def convert_to_usd(row):\n",
    "    ''' Converts '''\n",
    "    try:\n",
    "        # if date doesn't exist, e.g. because of weekend, return closest value\n",
    "        return row['price'] / forex.iloc[forex.index.get_loc(row['sale_date'] ,method='nearest')][row['currency']]\n",
    "    except:\n",
    "        return None\n",
    "    \n",
    "\n",
    "testdf['usdprice'] = testdf.apply(convert_to_usd, axis=1)\n",
    "\n",
    "\n"
   ]
  },
  {
   "cell_type": "code",
   "execution_count": null,
   "metadata": {
    "collapsed": true
   },
   "outputs": [],
   "source": []
  },
  {
   "cell_type": "code",
   "execution_count": null,
   "metadata": {
    "collapsed": true
   },
   "outputs": [],
   "source": []
  }
 ],
 "metadata": {
  "kernelspec": {
   "display_name": "Python 3",
   "language": "python",
   "name": "python3"
  },
  "language_info": {
   "codemirror_mode": {
    "name": "ipython",
    "version": 3
   },
   "file_extension": ".py",
   "mimetype": "text/x-python",
   "name": "python",
   "nbconvert_exporter": "python",
   "pygments_lexer": "ipython3",
   "version": "3.6.0"
  }
 },
 "nbformat": 4,
 "nbformat_minor": 2
}
