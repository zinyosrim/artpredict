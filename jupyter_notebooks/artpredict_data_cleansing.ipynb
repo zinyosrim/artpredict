{
 "cells": [
  {
   "cell_type": "markdown",
   "metadata": {},
   "source": [
    "# Preparing Artcollect data for pre-processing\n",
    "The Artcollect auction house data capturing process collects artwork information in JSON files.\n",
    "For further pre-processing some additional actions need to be taken: \n",
    "- Unify names of attributes, since they are not indentical for each auction house\n",
    "- Filter out non art related auctions, e.g. watches, cars etc (in particullar from Christie's)\n",
    "- set new index to 'key'\n",
    "- Save all data into one large file for further pre-processing"
   ]
  },
  {
   "cell_type": "code",
   "execution_count": 96,
   "metadata": {
    "collapsed": true
   },
   "outputs": [],
   "source": [
    "import numpy as np\n",
    "import pandas as pd\n",
    "import csv"
   ]
  },
  {
   "cell_type": "code",
   "execution_count": 97,
   "metadata": {
    "collapsed": true
   },
   "outputs": [],
   "source": [
    "DATAPATH = \"/Users/denizthemenace/dev/artcollect/data/\""
   ]
  },
  {
   "cell_type": "markdown",
   "metadata": {},
   "source": [
    "## Christie's clean-up\n",
    "### Step 1: Concatenate Christie's datafiles to one DataFrame"
   ]
  },
  {
   "cell_type": "code",
   "execution_count": 98,
   "metadata": {
    "collapsed": true
   },
   "outputs": [],
   "source": [
    "lots_christies_1          = pd.read_json(DATAPATH + 'christies_1998-2005.json')\n",
    "lots_christies_2          = pd.read_json(DATAPATH + 'christies_2006-2017.json')\n",
    "lots_christies_raw        = pd.concat([lots_christies_1, lots_christies_2])"
   ]
  },
  {
   "cell_type": "markdown",
   "metadata": {},
   "source": [
    "### Step 2: Filter-out non art related auctions"
   ]
  },
  {
   "cell_type": "code",
   "execution_count": 100,
   "metadata": {},
   "outputs": [
    {
     "name": "stdout",
     "output_type": "stream",
     "text": [
      "# of Christies lots before filtering:  927643\n",
      "# of Christies lots after  filtering:  232542\n"
     ]
    }
   ],
   "source": [
    "# Read file containing names of art related auctions\n",
    "with open(DATAPATH + 'christies_auctions_only_art_cleaned_up.csv', 'r') as f:\n",
    "    reader = csv.reader(f)\n",
    "    christies_only_art_auctions = list(reader)\n",
    "    christies_only_art_auctions = [auction[0] for auction in christies_only_art_auctions]\n",
    "\n",
    "print('# of Christie''s lots before filtering: ', len(lots_christies_raw))\n",
    "\n",
    "# filter out auctions which aren't in the cleaned-up auction list\n",
    "lots_christies_filtered = lots_christies_raw[lots_christies_raw['sale_title'].isin(christies_only_art_auctions)]\n",
    "lots_christies_filtered.set_index('key', inplace=True)\n",
    "print('# of Christie''s lots after  filtering: ', len(lots_christies_filtered))\n",
    "\n",
    "# change name of auction_house_name column\n",
    "lots_christies = lots_christies_filtered.copy()\n",
    "lots_christies.loc[:,'auction_house'] = 'christies'\n",
    "lots_christies.drop('auction_house_name', axis=1, inplace=True)\n",
    "\n",
    "# change name of image_url column\n",
    "lots_christies['image_urls'] = lots_christies['image_url']\n",
    "lots_christies.drop('image_url', axis=1, inplace=True)"
   ]
  },
  {
   "cell_type": "markdown",
   "metadata": {},
   "source": [
    "## Phillips & Sotheby's clean-up"
   ]
  },
  {
   "cell_type": "code",
   "execution_count": 101,
   "metadata": {},
   "outputs": [
    {
     "name": "stdout",
     "output_type": "stream",
     "text": [
      "# of Phillips lots after  filtering:  64000\n",
      "# of Sotheby's lots after  filtering:  246362\n"
     ]
    }
   ],
   "source": [
    "lots_phillips = pd.read_json(DATAPATH + 'phillips_all_lots_from_auction_pages_1-40.json')\n",
    "lots_phillips.set_index('key', inplace=True)\n",
    "lots_phillips['auction_house'] = 'phillips'\n",
    "lots_phillips.drop('auction_house_name', axis=1, inplace=True)\n",
    "print(\"# of Phillips lots after  filtering: \", len(lots_phillips))\n",
    "\n",
    "lots_sothebys = pd.read_json(DATAPATH + 'sothebys.json')\n",
    "lots_sothebys.set_index('key', inplace=True)\n",
    "lots_sothebys['auction_house'] = 'sothebys'\n",
    "lots_sothebys.drop('auction_house_name', axis=1, inplace=True)\n",
    "print(\"# of Sotheby's lots after  filtering: \", len(lots_sothebys))"
   ]
  },
  {
   "cell_type": "markdown",
   "metadata": {},
   "source": [
    "## Create one DataFrame containing all lots"
   ]
  },
  {
   "cell_type": "code",
   "execution_count": 102,
   "metadata": {
    "scrolled": false
   },
   "outputs": [
    {
     "name": "stdout",
     "output_type": "stream",
     "text": [
      "Total # of lots fro pre-processing: 542904\n",
      "Loaded 542904 lots for pre-processing into /Users/denizthemenace/dev/artcollect/data/lots_not_preprocessed.json\n"
     ]
    }
   ],
   "source": [
    "lots_not_preprocessed = pd.concat([lots_christies, lots_phillips, lots_sothebys])\n",
    "print(\"Total # of lots fro pre-processing:\", len(lots_not_preprocessed))"
   ]
  },
  {
   "cell_type": "markdown",
   "metadata": {},
   "source": [
    "## Currency conversion to USD"
   ]
  },
  {
   "cell_type": "code",
   "execution_count": 105,
   "metadata": {
    "scrolled": true
   },
   "outputs": [
    {
     "data": {
      "text/plain": [
       "GBP    188886\n",
       "USD    153951\n",
       "EUR     65877\n",
       "HKD     43359\n",
       "CHF      3381\n",
       "NLG      2791\n",
       "AUD       959\n",
       "CAD       781\n",
       "SGD       430\n",
       "CNY       368\n",
       "RMB       319\n",
       "INR       128\n",
       "Name: currency, dtype: int64"
      ]
     },
     "execution_count": 105,
     "metadata": {},
     "output_type": "execute_result"
    }
   ],
   "source": [
    "lots_not_preprocessed['currency'].value_counts()"
   ]
  },
  {
   "cell_type": "markdown",
   "metadata": {},
   "source": [
    "### Step 1: Convert prices to USD"
   ]
  },
  {
   "cell_type": "code",
   "execution_count": 107,
   "metadata": {},
   "outputs": [],
   "source": [
    "def convert_to_usd_basic(row):\n",
    "    '''Takes a lots dataframe as input and converts a price to USD'''\n",
    "    \n",
    "    exchange_rate = {'GBP': 0.747620,\n",
    "                     'EUR': 0.848868,\n",
    "                     'USD': 1.0,\n",
    "                     'INR': 65.3090,\n",
    "                     'JPY': 112.651,\n",
    "                     'AUD': 1.27604,\n",
    "                     'CAD': 1.24811,\n",
    "                     'SGD': 1.35749,\n",
    "                     'CHF': 0.969412,\n",
    "                     'CNY': 6.65199,\n",
    "                     'RMB': 6.65199,\n",
    "                     'TWD': 30.3466,\n",
    "                     'HKD': 7.81040,\n",
    "                     'RUB': 57.5945,\n",
    "                     'SKK': 8.17056,\n",
    "                     'DKK': 6.31823,\n",
    "                     'NLG': 1.87082,\n",
    "                     'FRF': 5.56820,\n",
    "                     'ITL': 1.64331,\n",
    "                     'DEM': 1.65949,\n",
    "                     'ESP': 141.173,\n",
    "                    }\n",
    "    try:\n",
    "        return exchange_rate[row['currency']]\n",
    "    except:\n",
    "        return None\n",
    "\n",
    "# create lots dataframe with USD prices only\n",
    "lots_not_preprocessed_usd = lots_not_preprocessed.copy()\n",
    "\n",
    "lots_not_preprocessed_usd['conversion_rate'] = \\\n",
    "                    lots_not_preprocessed_usd.apply(convert_to_usd_basic, axis=1)\n",
    "lots_not_preprocessed_usd['price'] = \\\n",
    "                    lots_not_preprocessed_usd['price']/lots_not_preprocessed_usd['conversion_rate']\n",
    "lots_not_preprocessed_usd['max_estimated_price'] = \\\n",
    "                    lots_not_preprocessed_usd['max_estimated_price']/lots_not_preprocessed_usd['conversion_rate']\n",
    "lots_not_preprocessed_usd['min_estimated_price'] = \\\n",
    "                    lots_not_preprocessed_usd['min_estimated_price']/lots_not_preprocessed_usd['conversion_rate']"
   ]
  },
  {
   "cell_type": "markdown",
   "metadata": {},
   "source": [
    "### Step 2: Drop currency columns because all data is in USD now"
   ]
  },
  {
   "cell_type": "code",
   "execution_count": 109,
   "metadata": {},
   "outputs": [],
   "source": [
    "columns_to_drop = ['currency', 'estimate_currency', 'conversion_rate' ]\n",
    "lots_not_preprocessed_usd.drop(columns_to_drop, axis=1, inplace=True)"
   ]
  },
  {
   "cell_type": "markdown",
   "metadata": {},
   "source": [
    "## Save to file"
   ]
  },
  {
   "cell_type": "code",
   "execution_count": 113,
   "metadata": {},
   "outputs": [
    {
     "name": "stdout",
     "output_type": "stream",
     "text": [
      "Saved 542904 lots in USD for pre-processing to\n",
      " /Users/denizthemenace/dev/artcollect/data/lots_not_preprocessed_usd.json\n"
     ]
    }
   ],
   "source": [
    "lots_not_preprocessed_usd.to_json(DATAPATH + 'lots_not_preprocessed.json')\n",
    "print('Saved', len(lots_not_preprocessed_usd), 'lots in USD for pre-processing to\\n', DATAPATH + 'lots_not_preprocessed_usd.json')"
   ]
  },
  {
   "cell_type": "code",
   "execution_count": null,
   "metadata": {
    "collapsed": true
   },
   "outputs": [],
   "source": []
  }
 ],
 "metadata": {
  "kernelspec": {
   "display_name": "Python 3",
   "language": "python",
   "name": "python3"
  },
  "language_info": {
   "codemirror_mode": {
    "name": "ipython",
    "version": 3
   },
   "file_extension": ".py",
   "mimetype": "text/x-python",
   "name": "python",
   "nbconvert_exporter": "python",
   "pygments_lexer": "ipython3",
   "version": "3.6.0"
  }
 },
 "nbformat": 4,
 "nbformat_minor": 2
}
